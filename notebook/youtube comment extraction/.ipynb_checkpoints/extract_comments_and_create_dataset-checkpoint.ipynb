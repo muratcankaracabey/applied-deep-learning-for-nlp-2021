{
 "cells": [
  {
   "cell_type": "code",
   "execution_count": 3,
   "metadata": {},
   "outputs": [],
   "source": [
    "# Define the API settings\n",
    "CLIENT_SECRETS_FILE = \"client_secret.json\"\n",
    "\n",
    "SCOPES = ['https://www.googleapis.com/auth/youtube.force-ssl']\n",
    "API_SERVICE_NAME = 'youtube'\n",
    "API_VERSION = 'v3'\n",
    "\n",
    "# Import necessary modules, mostly google apiclient and\n",
    "# google authentication related modules\n",
    "import os\n",
    "import pickle\n",
    "import google.oauth2.credentials\n",
    " \n",
    "from googleapiclient.discovery import build\n",
    "from googleapiclient.errors import HttpError\n",
    "from google_auth_oauthlib.flow import InstalledAppFlow\n",
    "from google.auth.transport.requests import Request\n",
    " \n",
    "# function that authenticates with the credentials related\n",
    "# to Google APIs and returns a service that can be used to\n",
    "# interact with YouTube API\n",
    "\n",
    "def get_authenticated_service():\n",
    "    credentials = None\n",
    "    if os.path.exists('token.pickle'):\n",
    "        with open('token.pickle', 'rb') as token:\n",
    "            credentials = pickle.load(token)\n",
    "    #  Check if the credentials are invalid or do not exist\n",
    "    if not credentials or not credentials.valid:\n",
    "        # Check if the credentials have expired\n",
    "        if credentials and credentials.expired and credentials.refresh_token:\n",
    "            credentials.refresh(Request())\n",
    "        else:\n",
    "            flow = InstalledAppFlow.from_client_secrets_file(\n",
    "                CLIENT_SECRETS_FILE, SCOPES)\n",
    "            credentials = flow.run_console()\n",
    "\n",
    "        # Save the credentials for the next run\n",
    "        with open('token.pickle', 'wb') as token:\n",
    "            pickle.dump(credentials, token)\n",
    "\n",
    "    return build(API_SERVICE_NAME, API_VERSION, credentials = credentials)\n"
   ]
  },
  {
   "cell_type": "code",
   "execution_count": 4,
   "metadata": {},
   "outputs": [
    {
     "name": "stdout",
     "output_type": "stream",
     "text": [
      "Please visit this URL to authorize this application: https://accounts.google.com/o/oauth2/auth?response_type=code&client_id=385788974097-fdba3lngr32rqs8vc5271ps9csd0o4v7.apps.googleusercontent.com&redirect_uri=urn%3Aietf%3Awg%3Aoauth%3A2.0%3Aoob&scope=https%3A%2F%2Fwww.googleapis.com%2Fauth%2Fyoutube.force-ssl&state=4s0MltqfaLdyzNMoUVk3KEuS5wafvI&prompt=consent&access_type=offline\n",
      "Enter the authorization code: 4/1AY0e-g4PdKM3X5NC86qpVlZi0cElNTBZwHSs4VvcYNqBAdJR_kukHNhtj8A\n"
     ]
    }
   ],
   "source": [
    "# Get the service\n",
    "os.environ['OAUTHLIB_INSECURE_TRANSPORT'] = '1'\n",
    "youtube = get_authenticated_service()"
   ]
  },
  {
   "cell_type": "markdown",
   "metadata": {},
   "source": [
    "### getting playlist id for the channel"
   ]
  },
  {
   "cell_type": "code",
   "execution_count": 8,
   "metadata": {},
   "outputs": [],
   "source": [
    "channel_content = youtube.channels().list(part=\"contentDetails\",forUsername=\"voxdotcom\").execute()\n",
    "playlist_id = channel_content['items'][0]['contentDetails']['relatedPlaylists']['uploads']"
   ]
  },
  {
   "cell_type": "markdown",
   "metadata": {},
   "source": [
    "### extract last 10 videos but all top comment threads by using paging"
   ]
  },
  {
   "cell_type": "code",
   "execution_count": 14,
   "metadata": {},
   "outputs": [],
   "source": [
    "videos = youtube.playlistItems().list(part=\"snippet\",\n",
    "                                      maxResults=50,\n",
    "                                      playlistId=playlist_id).execute()\n",
    "data_dict = dict()\n",
    "i = 0\n",
    "for item in videos['items']:\n",
    "    video_id = item['snippet']['resourceId']['videoId']\n",
    "    video_title = item['snippet']['title']\n",
    "    \n",
    "    \n",
    "    first_page = True\n",
    "    page_token = None\n",
    "    nextPageExist = True\n",
    "    while nextPageExist:\n",
    "        if first_page:\n",
    "            comment_threads = youtube.commentThreads().list(part=\"snippet\",\n",
    "                                                            maxResults = 50,\n",
    "                                                            videoId = video_id).execute()\n",
    "            first_page = False\n",
    "        \n",
    "        else:\n",
    "            try:\n",
    "                comment_threads = youtube.commentThreads().list(part=\"snippet\",\n",
    "                                                                maxResults = 50,\n",
    "                                                                pageToken = page_token,\n",
    "                                                                videoId = video_id).execute()\n",
    "            except:\n",
    "                print(' a problem happened while trying get comments from video',video_title)\n",
    "                pass\n",
    "            \n",
    "        for comment_thread in comment_threads['items']:\n",
    "            comment = comment_thread['snippet']['topLevelComment']['snippet']['textDisplay']\n",
    "            comment_id = comment_thread['snippet']['topLevelComment']['id']\n",
    "            like_count = comment_thread['snippet']['topLevelComment']['snippet']['likeCount']\n",
    "            publish_date = comment_thread['snippet']['topLevelComment']['snippet']['publishedAt']\n",
    "            data_dict[i] = {'video_id':video_id,\n",
    "                            'video_title':video_title,\n",
    "                            'comment_id':comment_id,\n",
    "                            'comment_date':publish_date,\n",
    "                            'comment':comment,\n",
    "                            'like_count':like_count}\n",
    "            i += 1\n",
    "        \n",
    "        if 'nextPageToken' in comment_threads:\n",
    "            nextPageExist = True\n",
    "            page_token = comment_threads['nextPageToken']\n",
    "        else:\n",
    "            nextPageExist = False\n",
    "    "
   ]
  },
  {
   "cell_type": "code",
   "execution_count": 15,
   "metadata": {},
   "outputs": [
    {
     "data": {
      "text/plain": [
       "98392"
      ]
     },
     "execution_count": 15,
     "metadata": {},
     "output_type": "execute_result"
    }
   ],
   "source": [
    "len(data_dict)"
   ]
  },
  {
   "cell_type": "code",
   "execution_count": 16,
   "metadata": {},
   "outputs": [
    {
     "data": {
      "text/html": [
       "<div>\n",
       "<style scoped>\n",
       "    .dataframe tbody tr th:only-of-type {\n",
       "        vertical-align: middle;\n",
       "    }\n",
       "\n",
       "    .dataframe tbody tr th {\n",
       "        vertical-align: top;\n",
       "    }\n",
       "\n",
       "    .dataframe thead th {\n",
       "        text-align: right;\n",
       "    }\n",
       "</style>\n",
       "<table border=\"1\" class=\"dataframe\">\n",
       "  <thead>\n",
       "    <tr style=\"text-align: right;\">\n",
       "      <th></th>\n",
       "      <th>video_id</th>\n",
       "      <th>video_title</th>\n",
       "      <th>comment_id</th>\n",
       "      <th>comment_date</th>\n",
       "      <th>comment</th>\n",
       "      <th>like_count</th>\n",
       "    </tr>\n",
       "  </thead>\n",
       "  <tbody>\n",
       "    <tr>\n",
       "      <th>0</th>\n",
       "      <td>hqvOcr0uu9o</td>\n",
       "      <td>The warning signs before the Capitol riot</td>\n",
       "      <td>UgzlBWVMqlnbq4mLjyR4AaABAg</td>\n",
       "      <td>2021-01-20T12:32:30Z</td>\n",
       "      <td>I don&amp;#39;t want to hear blue lived matter any...</td>\n",
       "      <td>0</td>\n",
       "    </tr>\n",
       "    <tr>\n",
       "      <th>1</th>\n",
       "      <td>hqvOcr0uu9o</td>\n",
       "      <td>The warning signs before the Capitol riot</td>\n",
       "      <td>UgwufKze5PKyKDAsUpp4AaABAg</td>\n",
       "      <td>2021-01-20T12:17:48Z</td>\n",
       "      <td>The problem is nor left or right. The problem ...</td>\n",
       "      <td>0</td>\n",
       "    </tr>\n",
       "    <tr>\n",
       "      <th>2</th>\n",
       "      <td>hqvOcr0uu9o</td>\n",
       "      <td>The warning signs before the Capitol riot</td>\n",
       "      <td>UgzHHHu2fTgXVJXAULJ4AaABAg</td>\n",
       "      <td>2021-01-20T12:15:15Z</td>\n",
       "      <td>These people have to see or know what they hav...</td>\n",
       "      <td>0</td>\n",
       "    </tr>\n",
       "    <tr>\n",
       "      <th>3</th>\n",
       "      <td>hqvOcr0uu9o</td>\n",
       "      <td>The warning signs before the Capitol riot</td>\n",
       "      <td>UgynTmOfFaEaW4-I7GB4AaABAg</td>\n",
       "      <td>2021-01-20T12:13:17Z</td>\n",
       "      <td>&lt;b&gt;Are we forgetting democrats trying to impea...</td>\n",
       "      <td>0</td>\n",
       "    </tr>\n",
       "    <tr>\n",
       "      <th>4</th>\n",
       "      <td>hqvOcr0uu9o</td>\n",
       "      <td>The warning signs before the Capitol riot</td>\n",
       "      <td>Ugzl9y87AjTFPDHotdl4AaABAg</td>\n",
       "      <td>2021-01-20T11:00:05Z</td>\n",
       "      <td>AmeriKKKa</td>\n",
       "      <td>0</td>\n",
       "    </tr>\n",
       "  </tbody>\n",
       "</table>\n",
       "</div>"
      ],
      "text/plain": [
       "      video_id                                video_title  \\\n",
       "0  hqvOcr0uu9o  The warning signs before the Capitol riot   \n",
       "1  hqvOcr0uu9o  The warning signs before the Capitol riot   \n",
       "2  hqvOcr0uu9o  The warning signs before the Capitol riot   \n",
       "3  hqvOcr0uu9o  The warning signs before the Capitol riot   \n",
       "4  hqvOcr0uu9o  The warning signs before the Capitol riot   \n",
       "\n",
       "                   comment_id          comment_date  \\\n",
       "0  UgzlBWVMqlnbq4mLjyR4AaABAg  2021-01-20T12:32:30Z   \n",
       "1  UgwufKze5PKyKDAsUpp4AaABAg  2021-01-20T12:17:48Z   \n",
       "2  UgzHHHu2fTgXVJXAULJ4AaABAg  2021-01-20T12:15:15Z   \n",
       "3  UgynTmOfFaEaW4-I7GB4AaABAg  2021-01-20T12:13:17Z   \n",
       "4  Ugzl9y87AjTFPDHotdl4AaABAg  2021-01-20T11:00:05Z   \n",
       "\n",
       "                                             comment  like_count  \n",
       "0  I don&#39;t want to hear blue lived matter any...           0  \n",
       "1  The problem is nor left or right. The problem ...           0  \n",
       "2  These people have to see or know what they hav...           0  \n",
       "3  <b>Are we forgetting democrats trying to impea...           0  \n",
       "4                                          AmeriKKKa           0  "
      ]
     },
     "execution_count": 16,
     "metadata": {},
     "output_type": "execute_result"
    }
   ],
   "source": [
    "import pandas as pd\n",
    "\n",
    "comments_df = pd.DataFrame.from_dict(data_dict, \"index\")\n",
    "comments_df.head()"
   ]
  },
  {
   "cell_type": "code",
   "execution_count": 18,
   "metadata": {},
   "outputs": [
    {
     "data": {
      "text/plain": [
       "(50,)"
      ]
     },
     "execution_count": 18,
     "metadata": {},
     "output_type": "execute_result"
    }
   ],
   "source": [
    "comments_df['video_id'].unique().shape"
   ]
  },
  {
   "cell_type": "code",
   "execution_count": 7,
   "metadata": {},
   "outputs": [],
   "source": [
    "#comments_df.to_csv('comments.csv')"
   ]
  },
  {
   "cell_type": "code",
   "execution_count": 20,
   "metadata": {},
   "outputs": [],
   "source": [
    "comments_df.to_csv(\"comments_vox.csv\",index=False)"
   ]
  },
  {
   "cell_type": "markdown",
   "metadata": {},
   "source": [
    "## References\n",
    "- [Extracting YouTube Comments with YouTube API & Python](https://python.gotrained.com/youtube-api-extracting-comments/)\n",
    "- [API Reference](https://developers.google.com/youtube/v3/docs) "
   ]
  },
  {
   "cell_type": "code",
   "execution_count": null,
   "metadata": {},
   "outputs": [],
   "source": []
  }
 ],
 "metadata": {
  "kernelspec": {
   "display_name": "Python 3",
   "language": "python",
   "name": "python3"
  },
  "language_info": {
   "codemirror_mode": {
    "name": "ipython",
    "version": 3
   },
   "file_extension": ".py",
   "mimetype": "text/x-python",
   "name": "python",
   "nbconvert_exporter": "python",
   "pygments_lexer": "ipython3",
   "version": "3.8.3"
  }
 },
 "nbformat": 4,
 "nbformat_minor": 4
}
