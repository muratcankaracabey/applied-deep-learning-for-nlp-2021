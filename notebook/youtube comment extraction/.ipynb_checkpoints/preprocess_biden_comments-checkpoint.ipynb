{
 "cells": [
  {
   "cell_type": "code",
   "execution_count": 1,
   "metadata": {},
   "outputs": [],
   "source": [
    "import pandas as pd\n",
    "import seaborn as sns\n",
    "from langdetect import detect\n",
    "import datetime"
   ]
  },
  {
   "cell_type": "code",
   "execution_count": 2,
   "metadata": {},
   "outputs": [
    {
     "name": "stdout",
     "output_type": "stream",
     "text": [
      "(10028, 6)\n",
      "(9944, 6)\n"
     ]
    }
   ],
   "source": [
    "# read the dataset and drop Nan values from it\n",
    "comments_df = pd.read_csv('biden_inauguration_comments.csv',engine='python')\n",
    "print(comments_df.shape)\n",
    "comments_df.dropna(inplace=True)\n",
    "print(comments_df.shape)"
   ]
  },
  {
   "cell_type": "code",
   "execution_count": 3,
   "metadata": {},
   "outputs": [
    {
     "data": {
      "text/html": [
       "<div>\n",
       "<style scoped>\n",
       "    .dataframe tbody tr th:only-of-type {\n",
       "        vertical-align: middle;\n",
       "    }\n",
       "\n",
       "    .dataframe tbody tr th {\n",
       "        vertical-align: top;\n",
       "    }\n",
       "\n",
       "    .dataframe thead th {\n",
       "        text-align: right;\n",
       "    }\n",
       "</style>\n",
       "<table border=\"1\" class=\"dataframe\">\n",
       "  <thead>\n",
       "    <tr style=\"text-align: right;\">\n",
       "      <th></th>\n",
       "      <th>video_id</th>\n",
       "      <th>video_title</th>\n",
       "      <th>comment_id</th>\n",
       "      <th>comment_date</th>\n",
       "      <th>comment</th>\n",
       "      <th>like_count</th>\n",
       "    </tr>\n",
       "  </thead>\n",
       "  <tbody>\n",
       "    <tr>\n",
       "      <th>0</th>\n",
       "      <td>LGukNIEIhTU</td>\n",
       "      <td>Watch President Joe Biden's full inauguration ...</td>\n",
       "      <td>Ugzd0_TOEZh81d9gvnV4AaABAg</td>\n",
       "      <td>2021-01-27T11:46:49Z</td>\n",
       "      <td>Joe said he would work with the other side and...</td>\n",
       "      <td>0.0</td>\n",
       "    </tr>\n",
       "    <tr>\n",
       "      <th>1</th>\n",
       "      <td>LGukNIEIhTU</td>\n",
       "      <td>Watch President Joe Biden's full inauguration ...</td>\n",
       "      <td>UgwP6R7PutonaVJINkl4AaABAg</td>\n",
       "      <td>2021-01-27T09:42:52Z</td>\n",
       "      <td>&amp;quot;Hey there ! I&amp;#39;m leaving whatsapp&amp;quo...</td>\n",
       "      <td>0.0</td>\n",
       "    </tr>\n",
       "    <tr>\n",
       "      <th>2</th>\n",
       "      <td>LGukNIEIhTU</td>\n",
       "      <td>Watch President Joe Biden's full inauguration ...</td>\n",
       "      <td>Ugw3gPHtw9k645W5ZpV4AaABAg</td>\n",
       "      <td>2021-01-27T08:04:51Z</td>\n",
       "      <td>this dude is a joke, a sick joke, he just look...</td>\n",
       "      <td>0.0</td>\n",
       "    </tr>\n",
       "    <tr>\n",
       "      <th>3</th>\n",
       "      <td>LGukNIEIhTU</td>\n",
       "      <td>Watch President Joe Biden's full inauguration ...</td>\n",
       "      <td>UgyjvcEKwD3LyfDYDgF4AaABAg</td>\n",
       "      <td>2021-01-27T07:34:40Z</td>\n",
       "      <td>&lt;a href=\"https://youtu.be/OSJDhZvLtak\"&gt;https:/...</td>\n",
       "      <td>0.0</td>\n",
       "    </tr>\n",
       "    <tr>\n",
       "      <th>4</th>\n",
       "      <td>LGukNIEIhTU</td>\n",
       "      <td>Watch President Joe Biden's full inauguration ...</td>\n",
       "      <td>UgzHCKoTD_sEm-TUjf54AaABAg</td>\n",
       "      <td>2021-01-27T06:22:19Z</td>\n",
       "      <td>Trump Won</td>\n",
       "      <td>0.0</td>\n",
       "    </tr>\n",
       "  </tbody>\n",
       "</table>\n",
       "</div>"
      ],
      "text/plain": [
       "      video_id                                        video_title  \\\n",
       "0  LGukNIEIhTU  Watch President Joe Biden's full inauguration ...   \n",
       "1  LGukNIEIhTU  Watch President Joe Biden's full inauguration ...   \n",
       "2  LGukNIEIhTU  Watch President Joe Biden's full inauguration ...   \n",
       "3  LGukNIEIhTU  Watch President Joe Biden's full inauguration ...   \n",
       "4  LGukNIEIhTU  Watch President Joe Biden's full inauguration ...   \n",
       "\n",
       "                   comment_id          comment_date  \\\n",
       "0  Ugzd0_TOEZh81d9gvnV4AaABAg  2021-01-27T11:46:49Z   \n",
       "1  UgwP6R7PutonaVJINkl4AaABAg  2021-01-27T09:42:52Z   \n",
       "2  Ugw3gPHtw9k645W5ZpV4AaABAg  2021-01-27T08:04:51Z   \n",
       "3  UgyjvcEKwD3LyfDYDgF4AaABAg  2021-01-27T07:34:40Z   \n",
       "4  UgzHCKoTD_sEm-TUjf54AaABAg  2021-01-27T06:22:19Z   \n",
       "\n",
       "                                             comment  like_count  \n",
       "0  Joe said he would work with the other side and...         0.0  \n",
       "1  &quot;Hey there ! I&#39;m leaving whatsapp&quo...         0.0  \n",
       "2  this dude is a joke, a sick joke, he just look...         0.0  \n",
       "3  <a href=\"https://youtu.be/OSJDhZvLtak\">https:/...         0.0  \n",
       "4                                          Trump Won         0.0  "
      ]
     },
     "execution_count": 3,
     "metadata": {},
     "output_type": "execute_result"
    }
   ],
   "source": [
    "comments_df.head()"
   ]
  },
  {
   "cell_type": "markdown",
   "metadata": {},
   "source": [
    "## Remove Emojis"
   ]
  },
  {
   "cell_type": "code",
   "execution_count": 4,
   "metadata": {},
   "outputs": [
    {
     "name": "stdout",
     "output_type": "stream",
     "text": [
      "Downloading emoji data ...\n",
      "... OK (Got response in 1.13 seconds)\n",
      "Writing emoji data to /Users/hasannamli/.demoji/codes.json ...\n",
      "... OK\n"
     ]
    }
   ],
   "source": [
    "import demoji\n",
    "demoji.download_codes()"
   ]
  },
  {
   "cell_type": "code",
   "execution_count": 5,
   "metadata": {},
   "outputs": [],
   "source": [
    "comments_df[\"clean_comments\"] = comments_df[\"comment\"].apply(lambda x: demoji.replace(x,\"\"))"
   ]
  },
  {
   "cell_type": "markdown",
   "metadata": {},
   "source": [
    "## Language Detection\n"
   ]
  },
  {
   "cell_type": "code",
   "execution_count": 6,
   "metadata": {},
   "outputs": [
    {
     "name": "stderr",
     "output_type": "stream",
     "text": [
      "/opt/anaconda3/lib/python3.8/site-packages/pandas/core/indexing.py:671: SettingWithCopyWarning: \n",
      "A value is trying to be set on a copy of a slice from a DataFrame\n",
      "\n",
      "See the caveats in the documentation: https://pandas.pydata.org/pandas-docs/stable/user_guide/indexing.html#returning-a-view-versus-a-copy\n",
      "  self._setitem_with_indexer(indexer, value)\n"
     ]
    }
   ],
   "source": [
    "from langdetect import detect\n",
    "\n",
    "comments_df[\"lan\"] = 0\n",
    "\n",
    "count = 0\n",
    "for i in range(0,len(comments_df)):\n",
    "    temp = comments_df[\"clean_comments\"].iloc[i]\n",
    "    count += 1\n",
    "    try:\n",
    "        comments_df[\"lan\"].iloc[i] = detect(temp)\n",
    "    except:\n",
    "        comments_df[\"lan\"].iloc[i] = \"no_lan\""
   ]
  },
  {
   "cell_type": "code",
   "execution_count": 7,
   "metadata": {},
   "outputs": [],
   "source": [
    "# filter only english text\n",
    "comments_df = comments_df[comments_df[\"lan\"] == \"en\"]"
   ]
  },
  {
   "cell_type": "markdown",
   "metadata": {},
   "source": [
    "## Remove Special Characters with Regex"
   ]
  },
  {
   "cell_type": "code",
   "execution_count": 8,
   "metadata": {},
   "outputs": [],
   "source": [
    "regex = r\"[^A-Za-z'\\t]\"\n",
    "import re"
   ]
  },
  {
   "cell_type": "code",
   "execution_count": 9,
   "metadata": {},
   "outputs": [],
   "source": [
    "comments_df[\"reg\"] = comments_df[\"clean_comments\"].apply(lambda x:re.findall(regex,x))\n",
    "comments_df[\"regular_comments\"] = comments_df[\"clean_comments\"].apply(lambda x:re.sub(regex,\" \",x))"
   ]
  },
  {
   "cell_type": "code",
   "execution_count": 10,
   "metadata": {},
   "outputs": [],
   "source": [
    "comments_df = comments_df[[\"video_id\",\"video_title\",\"comment_date\",\"regular_comments\",\"like_count\"]]"
   ]
  },
  {
   "cell_type": "code",
   "execution_count": 11,
   "metadata": {},
   "outputs": [],
   "source": [
    "comments_df = comments_df.rename(columns = {\"regular_comments\":\"comments\"})\n"
   ]
  },
  {
   "cell_type": "code",
   "execution_count": 12,
   "metadata": {},
   "outputs": [
    {
     "data": {
      "text/plain": [
       "(8341, 5)"
      ]
     },
     "execution_count": 12,
     "metadata": {},
     "output_type": "execute_result"
    }
   ],
   "source": [
    "comments_df.shape"
   ]
  },
  {
   "cell_type": "markdown",
   "metadata": {},
   "source": [
    "## Like Counts Analysis"
   ]
  },
  {
   "cell_type": "code",
   "execution_count": 13,
   "metadata": {},
   "outputs": [
    {
     "data": {
      "text/plain": [
       "<matplotlib.axes._subplots.AxesSubplot at 0x7fefa4eabf10>"
      ]
     },
     "execution_count": 13,
     "metadata": {},
     "output_type": "execute_result"
    },
    {
     "data": {
      "image/png": "[encoded data removed]",
      "text/plain": [
       "<Figure size 432x288 with 1 Axes>"
      ]
     },
     "metadata": {
      "needs_background": "light"
     },
     "output_type": "display_data"
    }
   ],
   "source": [
    "sns.distplot(comments_df['like_count'])"
   ]
  },
  {
   "cell_type": "code",
   "execution_count": 25,
   "metadata": {},
   "outputs": [
    {
     "data": {
      "text/plain": [
       "(1181, 5)"
      ]
     },
     "execution_count": 25,
     "metadata": {},
     "output_type": "execute_result"
    }
   ],
   "source": [
    "comments_df[comments_df['like_count'] >= 5].shape"
   ]
  },
  {
   "cell_type": "code",
   "execution_count": 27,
   "metadata": {},
   "outputs": [
    {
     "data": {
      "text/plain": [
       "(1044, 5)"
      ]
     },
     "execution_count": 27,
     "metadata": {},
     "output_type": "execute_result"
    }
   ],
   "source": [
    "comments_df[(comments_df['like_count'] < 5) & (comments_df['like_count'] > 1)].shape"
   ]
  },
  {
   "cell_type": "code",
   "execution_count": 29,
   "metadata": {},
   "outputs": [],
   "source": [
    "df = comments_df[comments_df['like_count'] > 1].copy()"
   ]
  },
  {
   "cell_type": "code",
   "execution_count": 30,
   "metadata": {},
   "outputs": [],
   "source": [
    "def label_comments(x):\n",
    "    if x[4] >= 5:\n",
    "        return 1\n",
    "    elif (x[4] < 5) and (x[4] > 1):\n",
    "        return 0"
   ]
  },
  {
   "cell_type": "code",
   "execution_count": 31,
   "metadata": {},
   "outputs": [],
   "source": [
    "# Label comments by the like size\n",
    "# comments which has more than 5 likes labelled as \n",
    "# highly liked \n",
    "# comments which has less than 5 likes but has at least\n",
    "# 1 like labelled as low liked \n",
    "df[\"label_highlow\"] = df.apply(label_comments,axis=1) "
   ]
  },
  {
   "cell_type": "code",
   "execution_count": 33,
   "metadata": {},
   "outputs": [
    {
     "data": {
      "text/plain": [
       "(2225, 6)"
      ]
     },
     "execution_count": 33,
     "metadata": {},
     "output_type": "execute_result"
    }
   ],
   "source": [
    "df.shape"
   ]
  },
  {
   "cell_type": "code",
   "execution_count": 34,
   "metadata": {},
   "outputs": [],
   "source": [
    "df.to_csv(\"biden_inauguration_comments_cnn.csv\",index=False)"
   ]
  },
  {
   "cell_type": "code",
   "execution_count": null,
   "metadata": {},
   "outputs": [],
   "source": []
  }
 ],
 "metadata": {
  "kernelspec": {
   "display_name": "Python 3",
   "language": "python",
   "name": "python3"
  },
  "language_info": {
   "codemirror_mode": {
    "name": "ipython",
    "version": 3
   },
   "file_extension": ".py",
   "mimetype": "text/x-python",
   "name": "python",
   "nbconvert_exporter": "python",
   "pygments_lexer": "ipython3",
   "version": "3.8.3"
  }
 },
 "nbformat": 4,
 "nbformat_minor": 4
}
