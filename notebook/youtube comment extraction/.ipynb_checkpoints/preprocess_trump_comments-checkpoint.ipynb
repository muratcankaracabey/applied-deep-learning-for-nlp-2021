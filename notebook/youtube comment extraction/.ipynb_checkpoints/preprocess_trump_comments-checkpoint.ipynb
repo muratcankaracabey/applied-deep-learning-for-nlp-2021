{
 "cells": [
  {
   "cell_type": "code",
   "execution_count": 1,
   "metadata": {},
   "outputs": [],
   "source": [
    "import pandas as pd\n",
    "import seaborn as sns\n",
    "from langdetect import detect\n",
    "import datetime"
   ]
  },
  {
   "cell_type": "code",
   "execution_count": 2,
   "metadata": {},
   "outputs": [
    {
     "name": "stdout",
     "output_type": "stream",
     "text": [
      "(5746, 6)\n",
      "(5728, 6)\n"
     ]
    }
   ],
   "source": [
    "# read the dataset and drop Nan values from it\n",
    "comments_df = pd.read_csv('trump_pennsylvania_comments.csv',engine='python')\n",
    "print(comments_df.shape)\n",
    "comments_df.dropna(inplace=True)\n",
    "print(comments_df.shape)"
   ]
  },
  {
   "cell_type": "code",
   "execution_count": 3,
   "metadata": {},
   "outputs": [
    {
     "data": {
      "text/html": [
       "<div>\n",
       "<style scoped>\n",
       "    .dataframe tbody tr th:only-of-type {\n",
       "        vertical-align: middle;\n",
       "    }\n",
       "\n",
       "    .dataframe tbody tr th {\n",
       "        vertical-align: top;\n",
       "    }\n",
       "\n",
       "    .dataframe thead th {\n",
       "        text-align: right;\n",
       "    }\n",
       "</style>\n",
       "<table border=\"1\" class=\"dataframe\">\n",
       "  <thead>\n",
       "    <tr style=\"text-align: right;\">\n",
       "      <th></th>\n",
       "      <th>video_id</th>\n",
       "      <th>video_title</th>\n",
       "      <th>comment_id</th>\n",
       "      <th>comment_date</th>\n",
       "      <th>comment</th>\n",
       "      <th>like_count</th>\n",
       "    </tr>\n",
       "  </thead>\n",
       "  <tbody>\n",
       "    <tr>\n",
       "      <th>0</th>\n",
       "      <td>xWrtgnCTmj4</td>\n",
       "      <td>Trump delivers remarks in Pennsylvania</td>\n",
       "      <td>Ugw-_qckxbOHF47Qzp14AaABAg</td>\n",
       "      <td>2021-01-25T15:08:59Z</td>\n",
       "      <td>A true great president!</td>\n",
       "      <td>1.0</td>\n",
       "    </tr>\n",
       "    <tr>\n",
       "      <th>1</th>\n",
       "      <td>xWrtgnCTmj4</td>\n",
       "      <td>Trump delivers remarks in Pennsylvania</td>\n",
       "      <td>UgwhdHVTiioGpOgzMLN4AaABAg</td>\n",
       "      <td>2021-01-25T10:14:26Z</td>\n",
       "      <td>I wonder what YouTube is going to do with this...</td>\n",
       "      <td>1.0</td>\n",
       "    </tr>\n",
       "    <tr>\n",
       "      <th>2</th>\n",
       "      <td>xWrtgnCTmj4</td>\n",
       "      <td>Trump delivers remarks in Pennsylvania</td>\n",
       "      <td>UgzUCVagqt-mc2kbVV14AaABAg</td>\n",
       "      <td>2021-01-24T10:57:46Z</td>\n",
       "      <td>Is the white house now a old peoples home and ...</td>\n",
       "      <td>0.0</td>\n",
       "    </tr>\n",
       "    <tr>\n",
       "      <th>3</th>\n",
       "      <td>xWrtgnCTmj4</td>\n",
       "      <td>Trump delivers remarks in Pennsylvania</td>\n",
       "      <td>Ugwo2zs4vM4b0hIBjQB4AaABAg</td>\n",
       "      <td>2021-01-24T02:21:26Z</td>\n",
       "      <td>Que Viva el Precidente Donald Trump</td>\n",
       "      <td>0.0</td>\n",
       "    </tr>\n",
       "    <tr>\n",
       "      <th>4</th>\n",
       "      <td>xWrtgnCTmj4</td>\n",
       "      <td>Trump delivers remarks in Pennsylvania</td>\n",
       "      <td>UgycWm2xyra1ujflf3x4AaABAg</td>\n",
       "      <td>2021-01-23T19:40:28Z</td>\n",
       "      <td>80% people love TRUMP AMERICA FIST</td>\n",
       "      <td>0.0</td>\n",
       "    </tr>\n",
       "  </tbody>\n",
       "</table>\n",
       "</div>"
      ],
      "text/plain": [
       "      video_id                             video_title  \\\n",
       "0  xWrtgnCTmj4  Trump delivers remarks in Pennsylvania   \n",
       "1  xWrtgnCTmj4  Trump delivers remarks in Pennsylvania   \n",
       "2  xWrtgnCTmj4  Trump delivers remarks in Pennsylvania   \n",
       "3  xWrtgnCTmj4  Trump delivers remarks in Pennsylvania   \n",
       "4  xWrtgnCTmj4  Trump delivers remarks in Pennsylvania   \n",
       "\n",
       "                   comment_id          comment_date  \\\n",
       "0  Ugw-_qckxbOHF47Qzp14AaABAg  2021-01-25T15:08:59Z   \n",
       "1  UgwhdHVTiioGpOgzMLN4AaABAg  2021-01-25T10:14:26Z   \n",
       "2  UgzUCVagqt-mc2kbVV14AaABAg  2021-01-24T10:57:46Z   \n",
       "3  Ugwo2zs4vM4b0hIBjQB4AaABAg  2021-01-24T02:21:26Z   \n",
       "4  UgycWm2xyra1ujflf3x4AaABAg  2021-01-23T19:40:28Z   \n",
       "\n",
       "                                             comment  like_count  \n",
       "0                            A true great president!         1.0  \n",
       "1  I wonder what YouTube is going to do with this...         1.0  \n",
       "2  Is the white house now a old peoples home and ...         0.0  \n",
       "3                Que Viva el Precidente Donald Trump         0.0  \n",
       "4                 80% people love TRUMP AMERICA FIST         0.0  "
      ]
     },
     "execution_count": 3,
     "metadata": {},
     "output_type": "execute_result"
    }
   ],
   "source": [
    "comments_df.head()"
   ]
  },
  {
   "cell_type": "markdown",
   "metadata": {},
   "source": [
    "## Remove Emojis"
   ]
  },
  {
   "cell_type": "code",
   "execution_count": 4,
   "metadata": {},
   "outputs": [
    {
     "name": "stdout",
     "output_type": "stream",
     "text": [
      "Downloading emoji data ...\n",
      "... OK (Got response in 1.17 seconds)\n",
      "Writing emoji data to /Users/hasannamli/.demoji/codes.json ...\n",
      "... OK\n"
     ]
    }
   ],
   "source": [
    "import demoji\n",
    "demoji.download_codes()"
   ]
  },
  {
   "cell_type": "code",
   "execution_count": 9,
   "metadata": {},
   "outputs": [],
   "source": [
    "comments_df[\"clean_comments\"] = comments_df[\"comment\"].apply(lambda x: demoji.replace(x,\"\"))"
   ]
  },
  {
   "cell_type": "markdown",
   "metadata": {},
   "source": [
    "## Language Detection"
   ]
  },
  {
   "cell_type": "code",
   "execution_count": 10,
   "metadata": {},
   "outputs": [],
   "source": [
    "from langdetect import detect\n",
    "\n",
    "comments_df[\"lan\"] = 0\n",
    "\n",
    "count = 0\n",
    "for i in range(0,len(comments_df)):\n",
    "    temp = comments_df[\"clean_comments\"].iloc[i]\n",
    "    count += 1\n",
    "    try:\n",
    "        comments_df[\"lan\"].iloc[i] = detect(temp)\n",
    "    except:\n",
    "        comments_df[\"lan\"].iloc[i] = \"no_lan\""
   ]
  },
  {
   "cell_type": "code",
   "execution_count": 11,
   "metadata": {},
   "outputs": [],
   "source": [
    "# filter only english text\n",
    "comments_df = comments_df[comments_df[\"lan\"] == \"en\"]"
   ]
  },
  {
   "cell_type": "markdown",
   "metadata": {},
   "source": [
    "## Remove Special Characters with Regex"
   ]
  },
  {
   "cell_type": "code",
   "execution_count": 12,
   "metadata": {},
   "outputs": [],
   "source": [
    "regex = r\"[^A-Za-z'\\t]\"\n",
    "import re"
   ]
  },
  {
   "cell_type": "code",
   "execution_count": 13,
   "metadata": {},
   "outputs": [],
   "source": [
    "comments_df[\"reg\"] = comments_df[\"clean_comments\"].apply(lambda x:re.findall(regex,x))\n",
    "comments_df[\"regular_comments\"] = comments_df[\"clean_comments\"].apply(lambda x:re.sub(regex,\" \",x))"
   ]
  },
  {
   "cell_type": "code",
   "execution_count": 14,
   "metadata": {},
   "outputs": [],
   "source": [
    "comments_df = comments_df[[\"video_id\",\"video_title\",\"comment_date\",\"regular_comments\",\"like_count\"]]"
   ]
  },
  {
   "cell_type": "code",
   "execution_count": 15,
   "metadata": {},
   "outputs": [],
   "source": [
    "comments_df = comments_df.rename(columns = {\"regular_comments\":\"comments\"})\n"
   ]
  },
  {
   "cell_type": "code",
   "execution_count": 16,
   "metadata": {},
   "outputs": [
    {
     "data": {
      "text/plain": [
       "(4715, 5)"
      ]
     },
     "execution_count": 16,
     "metadata": {},
     "output_type": "execute_result"
    }
   ],
   "source": [
    "comments_df.shape"
   ]
  },
  {
   "cell_type": "markdown",
   "metadata": {},
   "source": [
    "## Like Counts Analysis"
   ]
  },
  {
   "cell_type": "code",
   "execution_count": 17,
   "metadata": {},
   "outputs": [
    {
     "data": {
      "text/plain": [
       "<matplotlib.axes._subplots.AxesSubplot at 0x7fb5d419b760>"
      ]
     },
     "execution_count": 17,
     "metadata": {},
     "output_type": "execute_result"
    },
    {
     "data": {
      "image/png": "[encoded data removed]",
      "text/plain": [
       "<Figure size 432x288 with 1 Axes>"
      ]
     },
     "metadata": {
      "needs_background": "light"
     },
     "output_type": "display_data"
    }
   ],
   "source": [
    "sns.distplot(comments_df['like_count'])"
   ]
  },
  {
   "cell_type": "code",
   "execution_count": 22,
   "metadata": {},
   "outputs": [
    {
     "data": {
      "text/plain": [
       "(970, 5)"
      ]
     },
     "execution_count": 22,
     "metadata": {},
     "output_type": "execute_result"
    }
   ],
   "source": [
    "comments_df[comments_df['like_count'] >= 3].shape"
   ]
  },
  {
   "cell_type": "code",
   "execution_count": 24,
   "metadata": {},
   "outputs": [
    {
     "data": {
      "text/plain": [
       "(1194, 5)"
      ]
     },
     "execution_count": 24,
     "metadata": {},
     "output_type": "execute_result"
    }
   ],
   "source": [
    "comments_df[(comments_df['like_count'] < 3) & (comments_df['like_count'] > 0)].shape"
   ]
  },
  {
   "cell_type": "code",
   "execution_count": 26,
   "metadata": {},
   "outputs": [],
   "source": [
    "df = comments_df[comments_df['like_count'] > 0].copy()"
   ]
  },
  {
   "cell_type": "code",
   "execution_count": 27,
   "metadata": {},
   "outputs": [],
   "source": [
    "def label_comments(x):\n",
    "    if x[4] >= 3:\n",
    "        return 1\n",
    "    elif (x[4] < 3) and (x[4] > 0):\n",
    "        return 0"
   ]
  },
  {
   "cell_type": "code",
   "execution_count": 28,
   "metadata": {},
   "outputs": [],
   "source": [
    "# Label comments by the like size\n",
    "# comments which has more than 3 likes labelled as \n",
    "# highly liked \n",
    "# comments which has less than 3 likes labelled as low liked \n",
    "df[\"label_highlow\"] = df.apply(label_comments,axis=1) "
   ]
  },
  {
   "cell_type": "code",
   "execution_count": 30,
   "metadata": {},
   "outputs": [
    {
     "data": {
      "text/plain": [
       "(2164, 6)"
      ]
     },
     "execution_count": 30,
     "metadata": {},
     "output_type": "execute_result"
    }
   ],
   "source": [
    "df.shape"
   ]
  },
  {
   "cell_type": "code",
   "execution_count": 33,
   "metadata": {},
   "outputs": [],
   "source": [
    "df.to_csv(\"trump_pennsylvania_comments_fox.csv\",index=False)"
   ]
  },
  {
   "cell_type": "code",
   "execution_count": null,
   "metadata": {},
   "outputs": [],
   "source": []
  }
 ],
 "metadata": {
  "kernelspec": {
   "display_name": "Python 3",
   "language": "python",
   "name": "python3"
  },
  "language_info": {
   "codemirror_mode": {
    "name": "ipython",
    "version": 3
   },
   "file_extension": ".py",
   "mimetype": "text/x-python",
   "name": "python",
   "nbconvert_exporter": "python",
   "pygments_lexer": "ipython3",
   "version": "3.8.3"
  }
 },
 "nbformat": 4,
 "nbformat_minor": 4
}
