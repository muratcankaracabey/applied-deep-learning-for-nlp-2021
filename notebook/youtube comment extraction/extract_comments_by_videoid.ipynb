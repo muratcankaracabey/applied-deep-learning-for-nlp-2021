{
 "cells": [
  {
   "cell_type": "code",
   "execution_count": 2,
   "metadata": {},
   "outputs": [],
   "source": [
    "# Define the API settings\n",
    "CLIENT_SECRETS_FILE = \"client_secret.json\"\n",
    "\n",
    "SCOPES = ['https://www.googleapis.com/auth/youtube.force-ssl']\n",
    "API_SERVICE_NAME = 'youtube'\n",
    "API_VERSION = 'v3'\n",
    "\n",
    "# Import necessary modules, mostly google apiclient and\n",
    "# google authentication related modules\n",
    "import os\n",
    "import pickle\n",
    "import google.oauth2.credentials\n",
    " \n",
    "from googleapiclient.discovery import build\n",
    "from googleapiclient.errors import HttpError\n",
    "from google_auth_oauthlib.flow import InstalledAppFlow\n",
    "from google.auth.transport.requests import Request\n",
    " \n",
    "# function that authenticates with the credentials related\n",
    "# to Google APIs and returns a service that can be used to\n",
    "# interact with YouTube API\n",
    "\n",
    "def get_authenticated_service():\n",
    "    credentials = None\n",
    "    if os.path.exists('token.pickle'):\n",
    "        with open('token.pickle', 'rb') as token:\n",
    "            credentials = pickle.load(token)\n",
    "    #  Check if the credentials are invalid or do not exist\n",
    "    if not credentials or not credentials.valid:\n",
    "        # Check if the credentials have expired\n",
    "        if credentials and credentials.expired and credentials.refresh_token:\n",
    "            credentials.refresh(Request())\n",
    "        else:\n",
    "            flow = InstalledAppFlow.from_client_secrets_file(\n",
    "                CLIENT_SECRETS_FILE, SCOPES)\n",
    "            credentials = flow.run_console()\n",
    "\n",
    "        # Save the credentials for the next run\n",
    "        with open('token.pickle', 'wb') as token:\n",
    "            pickle.dump(credentials, token)\n",
    "\n",
    "    return build(API_SERVICE_NAME, API_VERSION, credentials = credentials)\n",
    "\n"
   ]
  },
  {
   "cell_type": "code",
   "execution_count": 3,
   "metadata": {},
   "outputs": [
    {
     "name": "stdout",
     "output_type": "stream",
     "text": [
      "Please visit this URL to authorize this application: https://accounts.google.com/o/oauth2/auth?response_type=code&client_id=385788974097-fdba3lngr32rqs8vc5271ps9csd0o4v7.apps.googleusercontent.com&redirect_uri=urn%3Aietf%3Awg%3Aoauth%3A2.0%3Aoob&scope=https%3A%2F%2Fwww.googleapis.com%2Fauth%2Fyoutube.force-ssl&state=ynhv5yImA2HdvOS8JhQCRU51dY0zp1&prompt=consent&access_type=offline\n",
      "Enter the authorization code: 4/1AY0e-g4GmwsTH4mv1YN70xz9Jz7uDBIY9s4ZwH4dYzycy8gUEiNzC0ztf2Y\n"
     ]
    }
   ],
   "source": [
    "# Get the service\n",
    "os.environ['OAUTHLIB_INSECURE_TRANSPORT'] = '1'\n",
    "youtube = get_authenticated_service()"
   ]
  },
  {
   "cell_type": "markdown",
   "metadata": {},
   "source": [
    "### extract comments by video id (useful for taking comments of only one video)"
   ]
  },
  {
   "cell_type": "code",
   "execution_count": 4,
   "metadata": {},
   "outputs": [],
   "source": [
    "data_dict = dict()\n",
    "i = 0\n",
    "video_id = \"xWrtgnCTmj4\" \n",
    "#video_title = item['snippet']['title']\n",
    "video_title = \"Trump delivers remarks in Pennsylvania\"\n",
    "\n",
    "first_page = True\n",
    "page_token = None\n",
    "nextPageExist = True\n",
    "while nextPageExist:\n",
    "    if first_page:\n",
    "        comment_threads = youtube.commentThreads().list(part=\"snippet\",\n",
    "                                                        maxResults = 50,\n",
    "                                                        videoId = video_id).execute()\n",
    "        first_page = False\n",
    "\n",
    "    else:\n",
    "        comment_threads = youtube.commentThreads().list(part=\"snippet\",\n",
    "                                                        maxResults = 50,\n",
    "                                                        pageToken = page_token,\n",
    "                                                        videoId = video_id).execute()\n",
    "\n",
    "    for comment_thread in comment_threads['items']:\n",
    "        comment = comment_thread['snippet']['topLevelComment']['snippet']['textDisplay']\n",
    "        comment_id = comment_thread['snippet']['topLevelComment']['id']\n",
    "        like_count = comment_thread['snippet']['topLevelComment']['snippet']['likeCount']\n",
    "        publish_date = comment_thread['snippet']['topLevelComment']['snippet']['publishedAt']\n",
    "        data_dict[i] = {'video_id':video_id,\n",
    "                        'video_title':video_title,\n",
    "                        'comment_id':comment_id,\n",
    "                        'comment_date':publish_date,\n",
    "                        'comment':comment,\n",
    "                        'like_count':like_count}\n",
    "        i += 1\n",
    "\n",
    "    if 'nextPageToken' in comment_threads:\n",
    "        nextPageExist = True\n",
    "        page_token = comment_threads['nextPageToken']\n",
    "    else:\n",
    "        nextPageExist = False\n",
    "    "
   ]
  },
  {
   "cell_type": "code",
   "execution_count": 5,
   "metadata": {},
   "outputs": [
    {
     "data": {
      "text/html": [
       "<div>\n",
       "<style scoped>\n",
       "    .dataframe tbody tr th:only-of-type {\n",
       "        vertical-align: middle;\n",
       "    }\n",
       "\n",
       "    .dataframe tbody tr th {\n",
       "        vertical-align: top;\n",
       "    }\n",
       "\n",
       "    .dataframe thead th {\n",
       "        text-align: right;\n",
       "    }\n",
       "</style>\n",
       "<table border=\"1\" class=\"dataframe\">\n",
       "  <thead>\n",
       "    <tr style=\"text-align: right;\">\n",
       "      <th></th>\n",
       "      <th>video_id</th>\n",
       "      <th>video_title</th>\n",
       "      <th>comment_id</th>\n",
       "      <th>comment_date</th>\n",
       "      <th>comment</th>\n",
       "      <th>like_count</th>\n",
       "    </tr>\n",
       "  </thead>\n",
       "  <tbody>\n",
       "    <tr>\n",
       "      <th>0</th>\n",
       "      <td>xWrtgnCTmj4</td>\n",
       "      <td>Trump delivers remarks in Pennsylvania</td>\n",
       "      <td>UgzxZ38VIvSD1USwIwt4AaABAg</td>\n",
       "      <td>2021-01-27T12:06:05Z</td>\n",
       "      <td>Joe has NEVER had this kind of support....CHEATER</td>\n",
       "      <td>1</td>\n",
       "    </tr>\n",
       "    <tr>\n",
       "      <th>1</th>\n",
       "      <td>xWrtgnCTmj4</td>\n",
       "      <td>Trump delivers remarks in Pennsylvania</td>\n",
       "      <td>Ugw-_qckxbOHF47Qzp14AaABAg</td>\n",
       "      <td>2021-01-25T15:08:59Z</td>\n",
       "      <td>A true great president!</td>\n",
       "      <td>1</td>\n",
       "    </tr>\n",
       "    <tr>\n",
       "      <th>2</th>\n",
       "      <td>xWrtgnCTmj4</td>\n",
       "      <td>Trump delivers remarks in Pennsylvania</td>\n",
       "      <td>UgwhdHVTiioGpOgzMLN4AaABAg</td>\n",
       "      <td>2021-01-25T10:14:26Z</td>\n",
       "      <td>I wonder what YouTube is going to do with this...</td>\n",
       "      <td>1</td>\n",
       "    </tr>\n",
       "    <tr>\n",
       "      <th>3</th>\n",
       "      <td>xWrtgnCTmj4</td>\n",
       "      <td>Trump delivers remarks in Pennsylvania</td>\n",
       "      <td>UgzUCVagqt-mc2kbVV14AaABAg</td>\n",
       "      <td>2021-01-24T10:57:46Z</td>\n",
       "      <td>Is the white house now a old peoples home and ...</td>\n",
       "      <td>0</td>\n",
       "    </tr>\n",
       "    <tr>\n",
       "      <th>4</th>\n",
       "      <td>xWrtgnCTmj4</td>\n",
       "      <td>Trump delivers remarks in Pennsylvania</td>\n",
       "      <td>Ugwo2zs4vM4b0hIBjQB4AaABAg</td>\n",
       "      <td>2021-01-24T02:21:26Z</td>\n",
       "      <td>Que Viva el Precidente Donald Trump</td>\n",
       "      <td>0</td>\n",
       "    </tr>\n",
       "  </tbody>\n",
       "</table>\n",
       "</div>"
      ],
      "text/plain": [
       "      video_id                             video_title  \\\n",
       "0  xWrtgnCTmj4  Trump delivers remarks in Pennsylvania   \n",
       "1  xWrtgnCTmj4  Trump delivers remarks in Pennsylvania   \n",
       "2  xWrtgnCTmj4  Trump delivers remarks in Pennsylvania   \n",
       "3  xWrtgnCTmj4  Trump delivers remarks in Pennsylvania   \n",
       "4  xWrtgnCTmj4  Trump delivers remarks in Pennsylvania   \n",
       "\n",
       "                   comment_id          comment_date  \\\n",
       "0  UgzxZ38VIvSD1USwIwt4AaABAg  2021-01-27T12:06:05Z   \n",
       "1  Ugw-_qckxbOHF47Qzp14AaABAg  2021-01-25T15:08:59Z   \n",
       "2  UgwhdHVTiioGpOgzMLN4AaABAg  2021-01-25T10:14:26Z   \n",
       "3  UgzUCVagqt-mc2kbVV14AaABAg  2021-01-24T10:57:46Z   \n",
       "4  Ugwo2zs4vM4b0hIBjQB4AaABAg  2021-01-24T02:21:26Z   \n",
       "\n",
       "                                             comment  like_count  \n",
       "0  Joe has NEVER had this kind of support....CHEATER           1  \n",
       "1                            A true great president!           1  \n",
       "2  I wonder what YouTube is going to do with this...           1  \n",
       "3  Is the white house now a old peoples home and ...           0  \n",
       "4                Que Viva el Precidente Donald Trump           0  "
      ]
     },
     "execution_count": 5,
     "metadata": {},
     "output_type": "execute_result"
    }
   ],
   "source": [
    "import pandas as pd\n",
    "\n",
    "comments_df = pd.DataFrame.from_dict(data_dict, \"index\")\n",
    "comments_df.head()"
   ]
  },
  {
   "cell_type": "code",
   "execution_count": 6,
   "metadata": {},
   "outputs": [
    {
     "data": {
      "text/plain": [
       "array(['xWrtgnCTmj4'], dtype=object)"
      ]
     },
     "execution_count": 6,
     "metadata": {},
     "output_type": "execute_result"
    }
   ],
   "source": [
    "comments_df['video_id'].unique()"
   ]
  },
  {
   "cell_type": "code",
   "execution_count": 7,
   "metadata": {},
   "outputs": [
    {
     "data": {
      "text/plain": [
       "(5736, 6)"
      ]
     },
     "execution_count": 7,
     "metadata": {},
     "output_type": "execute_result"
    }
   ],
   "source": [
    "comments_df.shape"
   ]
  },
  {
   "cell_type": "code",
   "execution_count": 7,
   "metadata": {},
   "outputs": [],
   "source": [
    "#comments_df.to_csv('comments.csv')"
   ]
  },
  {
   "cell_type": "code",
   "execution_count": 10,
   "metadata": {},
   "outputs": [],
   "source": [
    "#comments_df.to_csv(\"trump_rally_comments.csv\",index=False)"
   ]
  },
  {
   "cell_type": "code",
   "execution_count": 7,
   "metadata": {},
   "outputs": [],
   "source": [
    "#comments_df.to_csv(\"biden_victory_comments.csv\",index=False)"
   ]
  },
  {
   "cell_type": "code",
   "execution_count": 8,
   "metadata": {},
   "outputs": [],
   "source": [
    "#comments_df.to_csv(\"trump_pennsylvania_comments.csv\",index=False)"
   ]
  },
  {
   "cell_type": "code",
   "execution_count": 13,
   "metadata": {},
   "outputs": [],
   "source": [
    "#comments_df.to_csv(\"biden_inauguration_comments.csv\",index=False)"
   ]
  },
  {
   "cell_type": "code",
   "execution_count": null,
   "metadata": {},
   "outputs": [],
   "source": []
  }
 ],
 "metadata": {
  "kernelspec": {
   "display_name": "Python 3",
   "language": "python",
   "name": "python3"
  },
  "language_info": {
   "codemirror_mode": {
    "name": "ipython",
    "version": 3
   },
   "file_extension": ".py",
   "mimetype": "text/x-python",
   "name": "python",
   "nbconvert_exporter": "python",
   "pygments_lexer": "ipython3",
   "version": "3.8.3"
  }
 },
 "nbformat": 4,
 "nbformat_minor": 4
}
